{
 "cells": [
  {
   "cell_type": "markdown",
   "metadata": {},
   "source": [
    "# 🚀 VisionFlow Real-Time Demo\n",
    "**Advanced Object Detection + Pose Estimation**  \n",
    "*Works on webcam/video files*"
   ]
  },
  {
   "cell_type": "markdown",
   "metadata": {},
   "source": [
    "## 1. Setup Environment\n",
    "Install required packages:"
   ]
  },
  {
   "cell_type": "code",
   "execution_count": null,
   "metadata": {},
   "outputs": [],
   "source": [
    "!pip install -q ultralytics mediapipe opencv-python\n",
    "!git clone https://github.com/yourusername/VisionFlow\n",
    "%cd VisionFlow"
   ]
  },
  {
   "cell_type": "markdown",
   "metadata": {},
   "source": [
    "## 2. Initialize Models\n",
    "Load YOLOv8 (detection) and MediaPipe (pose):"
   ]
  },
  {
   "cell_type": "code",
   "execution_count": null,
   "metadata": {},
   "outputs": [],
   "source": [
    "import cv2\n",
    "import mediapipe as mp\n",
    "from ultralytics import YOLO\n",
    "\n",
    "# Initialize models\n",
    "detector = YOLO(\"yolov8n.pt\")\n",
    "pose_estimator = mp.solutions.pose.Pose(\n",
    "    static_image_mode=False,\n",
    "    model_complexity=2,\n",
    "    min_detection_confidence=0.7\n",
    ")"
   ]
  },
  {
   "cell_type": "markdown",
   "metadata": {},
   "source": [
    "## 3. Real-Time Processing\n",
    "Run inference on webcam:"
   ]
  },
  {
   "cell_type": "code",
   "execution_count": null,
   "metadata": {},
   "outputs": [],
   "source": [
    "cap = cv2.VideoCapture(0)  # 0 = default webcam\n",
    "\n",
    "while cap.isOpened():\n",
    "    ret, frame = cap.read()\n",
    "    if not ret: break\n",
    "    \n",
    "    # Object detection\n",
    "    detections = detector(frame)[0]\n",
    "    annotated_frame = detections.plot()\n",
    "    \n",
    "    # Pose estimation\n",
    "    results = pose_estimator.process(frame)\n",
    "    if results.pose_landmarks:\n",
    "        mp.solutions.drawing_utils.draw_landmarks(\n",
    "            annotated_frame,\n",
    "            results.pose_landmarks,\n",
    "            mp.solutions.pose.POSE_CONNECTIONS\n",
    "        )\n",
    "    \n",
    "    cv2.imshow('VisionFlow', annotated_frame)\n",
    "    if cv2.waitKey(1) == ord('q'): break\n",
    "\n",
    "cap.release()\n",
    "cv2.destroyAllWindows()"
   ]
  },
  {
   "cell_type": "markdown",
   "metadata": {},
   "source": [
    "## 4. Sample Output\n",
    "![Demo GIF](https://example.com/visionflow-demo.gif)  \n",
    "*Real-time detection + pose estimation*"
   ]
  },
  {
   "cell_type": "markdown",
   "metadata": {},
   "source": [
    "## 5. Next Steps\n",
    "- Try with custom videos: `cv2.VideoCapture(\"your_video.mp4\")`  \n",
    "- Export to ONNX: `model.export(format=\"onnx\")`  \n",
    "- Deploy on Jetson: See `scripts/deploy_edge.py`"
   ]
  }
 ],
 "metadata": {
  "kernelspec": {
   "display_name": "Python 3",
   "language": "python",
   "name": "python3"
  },
  "language_info": {
   "codemirror_mode": {
    "name": "ipython",
    "version": 3
   },
   "file_extension": ".py",
   "mimetype": "text/x-python",
   "name": "python",
   "nbconvert_exporter": "python",
   "pygments_lexer": "ipython3",
   "version": "3.10.12"
  }
 },
 "nbformat": 4,
 "nbformat_minor": 2
}
