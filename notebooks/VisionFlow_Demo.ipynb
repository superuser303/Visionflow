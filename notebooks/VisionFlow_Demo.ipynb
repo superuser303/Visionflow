!git clone https://github.com/yourusername/VisionFlow
%cd VisionFlow
!pip install -r requirements.txt

import cv2
from src.detection import YOLODetector
from src.pose import PoseEstimator

detector = YOLODetector()
pose_estimator = PoseEstimator()

cap = cv2.VideoCapture(0)
while cap.isOpened():
    ret, frame = cap.read()
    if not ret: break
    
    # Detection
    detections = detector.detect(frame)
    
    # Pose estimation
    landmarks = pose_estimator.estimate(frame)
    
    cv2.imshow('VisionFlow Demo', frame)
    if cv2.waitKey(1) == ord('q'): break

cap.release()
cv2.destroyAllWindows()
